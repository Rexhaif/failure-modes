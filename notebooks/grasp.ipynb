{
 "cells": [
  {
   "cell_type": "code",
   "execution_count": 1,
   "id": "0be1b424",
   "metadata": {},
   "outputs": [
    {
     "name": "stderr",
     "output_type": "stream",
     "text": [
      "Downloading the sentiment lexicon by Hu and Liu (KDD'04) from http://www.cs.uic.edu/~liub/FBS/opinion-lexicon-English.rar.\n",
      "(This will only happen once.)\n"
     ]
    },
    {
     "name": "stdout",
     "output_type": "stream",
     "text": [
      "patool: Extracting /Users/rexhaif/failure-modes/.venv/lib/python3.9/site-packages/lexicon.rar ...\n",
      "patool: running /opt/homebrew/bin/unar -o /Users/rexhaif/failure-modes/.venv/lib/python3.9/site-packages /Users/rexhaif/failure-modes/.venv/lib/python3.9/site-packages/lexicon.rar\n",
      "patool: ... /Users/rexhaif/failure-modes/.venv/lib/python3.9/site-packages/lexicon.rar extracted to `/Users/rexhaif/failure-modes/.venv/lib/python3.9/site-packages'.\n"
     ]
    }
   ],
   "source": [
    "import grasptext\n",
    "import pandas as pd"
   ]
  },
  {
   "cell_type": "code",
   "execution_count": 2,
   "id": "b741df49",
   "metadata": {},
   "outputs": [],
   "source": [
    "def clear_think(text):\n",
    "    return text.split(\"</think>\")[0].strip().replace(\"<think>\", \"\")\n",
    "\n",
    "data = pd.read_csv(\"../data/mt@deepseek_r1.csv\").dropna()\n",
    "data['reasoning_content'] = data['reasoning_content'].apply(clear_think)"
   ]
  },
  {
   "cell_type": "code",
   "execution_count": 3,
   "id": "cbdfa875",
   "metadata": {},
   "outputs": [
    {
     "data": {
      "text/html": [
       "<div>\n",
       "<style scoped>\n",
       "    .dataframe tbody tr th:only-of-type {\n",
       "        vertical-align: middle;\n",
       "    }\n",
       "\n",
       "    .dataframe tbody tr th {\n",
       "        vertical-align: top;\n",
       "    }\n",
       "\n",
       "    .dataframe thead th {\n",
       "        text-align: right;\n",
       "    }\n",
       "</style>\n",
       "<table border=\"1\" class=\"dataframe\">\n",
       "  <thead>\n",
       "    <tr style=\"text-align: right;\">\n",
       "      <th></th>\n",
       "      <th>system</th>\n",
       "      <th>src_segment</th>\n",
       "      <th>hyp_segment</th>\n",
       "      <th>language_pair</th>\n",
       "      <th>reasoning_tokens</th>\n",
       "      <th>reasoning_content</th>\n",
       "      <th>error_indicator</th>\n",
       "    </tr>\n",
       "  </thead>\n",
       "  <tbody>\n",
       "    <tr>\n",
       "      <th>0</th>\n",
       "      <td>ONLINE-W</td>\n",
       "      <td>Police arrest 15 after violent protest outside...</td>\n",
       "      <td>Polizei nimmt 15 Personen nach gewaltsamen Pro...</td>\n",
       "      <td>en-de</td>\n",
       "      <td>1</td>\n",
       "      <td>\\nOkay, let's take a look at this translation....</td>\n",
       "      <td>0</td>\n",
       "    </tr>\n",
       "    <tr>\n",
       "      <th>1</th>\n",
       "      <td>ONLINE-W</td>\n",
       "      <td>The incident comes after increase in numbers o...</td>\n",
       "      <td>Der Vorfall ereignete sich, nachdem die Zahl d...</td>\n",
       "      <td>en-de</td>\n",
       "      <td>1</td>\n",
       "      <td>\\nOkay, let's tackle this translation analysis...</td>\n",
       "      <td>0</td>\n",
       "    </tr>\n",
       "    <tr>\n",
       "      <th>2</th>\n",
       "      <td>ONLINE-W</td>\n",
       "      <td>The Home Office has been using the hotel to te...</td>\n",
       "      <td>Lokalen Medien zufolge nutzt das Innenminister...</td>\n",
       "      <td>en-de</td>\n",
       "      <td>1</td>\n",
       "      <td>\\nOkay, let's tackle this translation error id...</td>\n",
       "      <td>1</td>\n",
       "    </tr>\n",
       "    <tr>\n",
       "      <th>3</th>\n",
       "      <td>ONLINE-W</td>\n",
       "      <td>More than 45,000 people reached the UK by that...</td>\n",
       "      <td>Im Jahr 2022 erreichten mehr als 45.000 Mensch...</td>\n",
       "      <td>en-de</td>\n",
       "      <td>1</td>\n",
       "      <td>\\nOkay, let's tackle this translation analysis...</td>\n",
       "      <td>0</td>\n",
       "    </tr>\n",
       "    <tr>\n",
       "      <th>4</th>\n",
       "      <td>ONLINE-W</td>\n",
       "      <td>President's Cup: Candystripes defeat Rovers in...</td>\n",
       "      <td>President's Cup: Candystripes besiegen Rovers ...</td>\n",
       "      <td>en-de</td>\n",
       "      <td>1</td>\n",
       "      <td>\\nOkay, let's take a look at this translation....</td>\n",
       "      <td>0</td>\n",
       "    </tr>\n",
       "    <tr>\n",
       "      <th>...</th>\n",
       "      <td>...</td>\n",
       "      <td>...</td>\n",
       "      <td>...</td>\n",
       "      <td>...</td>\n",
       "      <td>...</td>\n",
       "      <td>...</td>\n",
       "      <td>...</td>\n",
       "    </tr>\n",
       "    <tr>\n",
       "      <th>7793</th>\n",
       "      <td>refA</td>\n",
       "      <td>Ergonomic and affordable, but not very toleran...</td>\n",
       "      <td>Ergonomisch und günstig, aber nicht für die ko...</td>\n",
       "      <td>en-de</td>\n",
       "      <td>1</td>\n",
       "      <td>\\nOkay, let's tackle this translation error an...</td>\n",
       "      <td>1</td>\n",
       "    </tr>\n",
       "    <tr>\n",
       "      <th>7794</th>\n",
       "      <td>refA</td>\n",
       "      <td>It has a slimmer design shape that fits better...</td>\n",
       "      <td>Der Controller hat ein schmaleres Design, das ...</td>\n",
       "      <td>en-de</td>\n",
       "      <td>1</td>\n",
       "      <td>\\nOkay, let's tackle this translation analysis...</td>\n",
       "      <td>1</td>\n",
       "    </tr>\n",
       "    <tr>\n",
       "      <th>7795</th>\n",
       "      <td>refA</td>\n",
       "      <td>You get what you pay for</td>\n",
       "      <td>Man kriegt, wofür man bezahlt</td>\n",
       "      <td>en-de</td>\n",
       "      <td>1</td>\n",
       "      <td>\\nOkay, let's tackle this translation error an...</td>\n",
       "      <td>0</td>\n",
       "    </tr>\n",
       "    <tr>\n",
       "      <th>7796</th>\n",
       "      <td>refA</td>\n",
       "      <td>I was disappointed upon receiving this item as...</td>\n",
       "      <td>Ich war sehr enttäuscht, als ich den Artikel e...</td>\n",
       "      <td>en-de</td>\n",
       "      <td>1</td>\n",
       "      <td>\\nOkay, let's tackle this translation error an...</td>\n",
       "      <td>1</td>\n",
       "    </tr>\n",
       "    <tr>\n",
       "      <th>7797</th>\n",
       "      <td>refA</td>\n",
       "      <td>Nothing like the previous Stylo phones, MASSIV...</td>\n",
       "      <td>Kein Vergleich zu den vorherigen Stylo-Handys,...</td>\n",
       "      <td>en-de</td>\n",
       "      <td>1</td>\n",
       "      <td>\\nOkay, let's tackle this translation analysis...</td>\n",
       "      <td>1</td>\n",
       "    </tr>\n",
       "  </tbody>\n",
       "</table>\n",
       "<p>7798 rows × 7 columns</p>\n",
       "</div>"
      ],
      "text/plain": [
       "        system                                        src_segment  \\\n",
       "0     ONLINE-W  Police arrest 15 after violent protest outside...   \n",
       "1     ONLINE-W  The incident comes after increase in numbers o...   \n",
       "2     ONLINE-W  The Home Office has been using the hotel to te...   \n",
       "3     ONLINE-W  More than 45,000 people reached the UK by that...   \n",
       "4     ONLINE-W  President's Cup: Candystripes defeat Rovers in...   \n",
       "...        ...                                                ...   \n",
       "7793      refA  Ergonomic and affordable, but not very toleran...   \n",
       "7794      refA  It has a slimmer design shape that fits better...   \n",
       "7795      refA                           You get what you pay for   \n",
       "7796      refA  I was disappointed upon receiving this item as...   \n",
       "7797      refA  Nothing like the previous Stylo phones, MASSIV...   \n",
       "\n",
       "                                            hyp_segment language_pair  \\\n",
       "0     Polizei nimmt 15 Personen nach gewaltsamen Pro...         en-de   \n",
       "1     Der Vorfall ereignete sich, nachdem die Zahl d...         en-de   \n",
       "2     Lokalen Medien zufolge nutzt das Innenminister...         en-de   \n",
       "3     Im Jahr 2022 erreichten mehr als 45.000 Mensch...         en-de   \n",
       "4     President's Cup: Candystripes besiegen Rovers ...         en-de   \n",
       "...                                                 ...           ...   \n",
       "7793  Ergonomisch und günstig, aber nicht für die ko...         en-de   \n",
       "7794  Der Controller hat ein schmaleres Design, das ...         en-de   \n",
       "7795                      Man kriegt, wofür man bezahlt         en-de   \n",
       "7796  Ich war sehr enttäuscht, als ich den Artikel e...         en-de   \n",
       "7797  Kein Vergleich zu den vorherigen Stylo-Handys,...         en-de   \n",
       "\n",
       "      reasoning_tokens                                  reasoning_content  \\\n",
       "0                    1  \\nOkay, let's take a look at this translation....   \n",
       "1                    1  \\nOkay, let's tackle this translation analysis...   \n",
       "2                    1  \\nOkay, let's tackle this translation error id...   \n",
       "3                    1  \\nOkay, let's tackle this translation analysis...   \n",
       "4                    1  \\nOkay, let's take a look at this translation....   \n",
       "...                ...                                                ...   \n",
       "7793                 1  \\nOkay, let's tackle this translation error an...   \n",
       "7794                 1  \\nOkay, let's tackle this translation analysis...   \n",
       "7795                 1  \\nOkay, let's tackle this translation error an...   \n",
       "7796                 1  \\nOkay, let's tackle this translation error an...   \n",
       "7797                 1  \\nOkay, let's tackle this translation analysis...   \n",
       "\n",
       "      error_indicator  \n",
       "0                   0  \n",
       "1                   0  \n",
       "2                   1  \n",
       "3                   0  \n",
       "4                   0  \n",
       "...               ...  \n",
       "7793                1  \n",
       "7794                1  \n",
       "7795                0  \n",
       "7796                1  \n",
       "7797                1  \n",
       "\n",
       "[7798 rows x 7 columns]"
      ]
     },
     "execution_count": 3,
     "metadata": {},
     "output_type": "execute_result"
    }
   ],
   "source": [
    "data"
   ]
  },
  {
   "cell_type": "code",
   "execution_count": 6,
   "id": "d8b7d6e9",
   "metadata": {},
   "outputs": [],
   "source": [
    "erroneous = data[data.error_indicator == 1]\n",
    "accurates = data[data.error_indicator == 0]"
   ]
  },
  {
   "cell_type": "code",
   "execution_count": 5,
   "id": "7453161e",
   "metadata": {},
   "outputs": [],
   "source": [
    "grasp_model = grasptext.GrASP(num_patterns = 50, \n",
    "                    gaps_allowed = 2, \n",
    "                    alphabet_size = 50, \n",
    "                    include_standard = ['LEMMA', 'POS', 'NER', 'HYPERNYM'])"
   ]
  },
  {
   "cell_type": "code",
   "execution_count": 8,
   "id": "1905283f",
   "metadata": {},
   "outputs": [
    {
     "name": "stdout",
     "output_type": "stream",
     "text": [
      "Step 1: Create augmented texts\n"
     ]
    },
    {
     "name": "stderr",
     "output_type": "stream",
     "text": [
      "100%|██████████| 4264/4264 [33:38<00:00,  2.11it/s]  \n",
      "100%|██████████| 3534/3534 [25:52<00:00,  2.28it/s]  \n"
     ]
    },
    {
     "name": "stdout",
     "output_type": "stream",
     "text": [
      "Step 2: Find frequent attributes\n",
      "Total number of candidate alphabet = 6802, such as ['LEMMA:okay', 'LEMMA:a', 'SPACY:POS-AUX', 'SPACY:POS-PUNCT', 'LEMMA:translation']\n",
      "Step 3: Find alphabet set\n"
     ]
    },
    {
     "name": "stderr",
     "output_type": "stream",
     "text": [
      "  7%|▋         | 503/6802 [08:48<1:50:19,  1.05s/it] \n"
     ]
    },
    {
     "ename": "KeyboardInterrupt",
     "evalue": "",
     "output_type": "error",
     "traceback": [
      "\u001b[0;31m---------------------------------------------------------------------------\u001b[0m",
      "\u001b[0;31mKeyboardInterrupt\u001b[0m                         Traceback (most recent call last)",
      "Cell \u001b[0;32mIn[8], line 1\u001b[0m\n\u001b[0;32m----> 1\u001b[0m patterns \u001b[38;5;241m=\u001b[39m \u001b[43mgrasp_model\u001b[49m\u001b[38;5;241;43m.\u001b[39;49m\u001b[43mfit_transform\u001b[49m\u001b[43m(\u001b[49m\u001b[43merroneous\u001b[49m\u001b[43m[\u001b[49m\u001b[38;5;124;43m'\u001b[39;49m\u001b[38;5;124;43mreasoning_content\u001b[39;49m\u001b[38;5;124;43m'\u001b[39;49m\u001b[43m]\u001b[49m\u001b[38;5;241;43m.\u001b[39;49m\u001b[43mtolist\u001b[49m\u001b[43m(\u001b[49m\u001b[43m)\u001b[49m\u001b[43m,\u001b[49m\u001b[43m \u001b[49m\u001b[43maccurates\u001b[49m\u001b[43m[\u001b[49m\u001b[38;5;124;43m'\u001b[39;49m\u001b[38;5;124;43mreasoning_content\u001b[39;49m\u001b[38;5;124;43m'\u001b[39;49m\u001b[43m]\u001b[49m\u001b[38;5;241;43m.\u001b[39;49m\u001b[43mtolist\u001b[49m\u001b[43m(\u001b[49m\u001b[43m)\u001b[49m\u001b[43m)\u001b[49m\n",
      "File \u001b[0;32m~/failure-modes/.venv/lib/python3.9/site-packages/grasptext.py:843\u001b[0m, in \u001b[0;36mGrASP.fit_transform\u001b[0;34m(self, positives, negatives)\u001b[0m\n\u001b[1;32m    841\u001b[0m \u001b[38;5;66;03m# 3. Find alphabet set (according to alphabet_size and correlation_threshold)\u001b[39;00m\n\u001b[1;32m    842\u001b[0m \u001b[38;5;28mprint\u001b[39m(\u001b[38;5;124m\"\u001b[39m\u001b[38;5;124mStep 3: Find alphabet set\u001b[39m\u001b[38;5;124m\"\u001b[39m)\n\u001b[0;32m--> 843\u001b[0m \u001b[38;5;28mself\u001b[39m\u001b[38;5;241m.\u001b[39malphabet, \u001b[38;5;28mself\u001b[39m\u001b[38;5;241m.\u001b[39mseed_patterns \u001b[38;5;241m=\u001b[39m \u001b[38;5;28;43mself\u001b[39;49m\u001b[38;5;241;43m.\u001b[39;49m\u001b[43m_select_alphabet_remove_others\u001b[49m\u001b[43m(\u001b[49m\u001b[43m)\u001b[49m\n\u001b[1;32m    844\u001b[0m \u001b[38;5;28mprint\u001b[39m(\u001b[38;5;124mf\u001b[39m\u001b[38;5;124m\"\u001b[39m\u001b[38;5;124mTotal number of alphabet = \u001b[39m\u001b[38;5;132;01m{\u001b[39;00m\u001b[38;5;28mlen\u001b[39m(\u001b[38;5;28mself\u001b[39m\u001b[38;5;241m.\u001b[39malphabet)\u001b[38;5;132;01m}\u001b[39;00m\u001b[38;5;124m\"\u001b[39m)\n\u001b[1;32m    845\u001b[0m \u001b[38;5;28mprint\u001b[39m(\u001b[38;5;28mself\u001b[39m\u001b[38;5;241m.\u001b[39malphabet)\n",
      "File \u001b[0;32m~/failure-modes/.venv/lib/python3.9/site-packages/grasptext.py:796\u001b[0m, in \u001b[0;36mGrASP._select_alphabet_remove_others\u001b[0;34m(self)\u001b[0m\n\u001b[1;32m    794\u001b[0m \u001b[38;5;28;01mfor\u001b[39;00m c \u001b[38;5;129;01min\u001b[39;00m tqdm(\u001b[38;5;28mself\u001b[39m\u001b[38;5;241m.\u001b[39mcandidate_alphabet):\n\u001b[1;32m    795\u001b[0m     w_size \u001b[38;5;241m=\u001b[39m \u001b[38;5;28mself\u001b[39m\u001b[38;5;241m.\u001b[39mgaps_allowed \u001b[38;5;241m+\u001b[39m \u001b[38;5;241m1\u001b[39m \u001b[38;5;28;01mif\u001b[39;00m \u001b[38;5;28mself\u001b[39m\u001b[38;5;241m.\u001b[39mgaps_allowed \u001b[38;5;129;01mis\u001b[39;00m \u001b[38;5;129;01mnot\u001b[39;00m \u001b[38;5;28;01mNone\u001b[39;00m \u001b[38;5;28;01melse\u001b[39;00m \u001b[38;5;28mself\u001b[39m\u001b[38;5;241m.\u001b[39mwindow_size\n\u001b[0;32m--> 796\u001b[0m     the_candidate \u001b[38;5;241m=\u001b[39m \u001b[43mPattern\u001b[49m\u001b[43m(\u001b[49m\u001b[43m[\u001b[49m\u001b[38;5;28;43mset\u001b[39;49m\u001b[43m(\u001b[49m\u001b[43m[\u001b[49m\u001b[43mc\u001b[49m\u001b[43m]\u001b[49m\u001b[43m)\u001b[49m\u001b[43m]\u001b[49m\u001b[43m,\u001b[49m\u001b[43m \u001b[49m\u001b[43mw_size\u001b[49m\u001b[43m,\u001b[49m\u001b[43m \u001b[49m\u001b[38;5;28;43mself\u001b[39;49m\u001b[38;5;241;43m.\u001b[39;49m\u001b[43mroot_pattern\u001b[49m\u001b[43m,\u001b[49m\u001b[43m \u001b[49m\u001b[38;5;28;43mself\u001b[39;49m\u001b[43m)\u001b[49m\n\u001b[1;32m    797\u001b[0m     canndidate_alphabet_patterns\u001b[38;5;241m.\u001b[39mappend(the_candidate)\n\u001b[1;32m    799\u001b[0m \u001b[38;5;66;03m# Find top k1 attributes to be the alphabet while removing correlated attributes\u001b[39;00m\n",
      "File \u001b[0;32m~/failure-modes/.venv/lib/python3.9/site-packages/grasptext.py:439\u001b[0m, in \u001b[0;36mPattern.__init__\u001b[0;34m(self, pattern, window_size, parent, grasp)\u001b[0m\n\u001b[1;32m    437\u001b[0m         \u001b[38;5;28mself\u001b[39m\u001b[38;5;241m.\u001b[39mneg_example_labels \u001b[38;5;241m=\u001b[39m [\u001b[38;5;28mself\u001b[39m\u001b[38;5;241m.\u001b[39mis_match(augtext)[\u001b[38;5;241m0\u001b[39m] \u001b[38;5;28;01mfor\u001b[39;00m augtext \u001b[38;5;129;01min\u001b[39;00m \u001b[38;5;28mself\u001b[39m\u001b[38;5;241m.\u001b[39mneg_augmented]\n\u001b[1;32m    438\u001b[0m     \u001b[38;5;28;01melse\u001b[39;00m:\n\u001b[0;32m--> 439\u001b[0m         \u001b[38;5;28mself\u001b[39m\u001b[38;5;241m.\u001b[39mpos_example_labels \u001b[38;5;241m=\u001b[39m [\u001b[38;5;28mself\u001b[39m\u001b[38;5;241m.\u001b[39mis_match(augtext)[\u001b[38;5;241m0\u001b[39m] \u001b[38;5;28;01mif\u001b[39;00m val \u001b[38;5;28;01melse\u001b[39;00m \u001b[38;5;28;01mNone\u001b[39;00m \u001b[38;5;28;01mfor\u001b[39;00m augtext, val \u001b[38;5;129;01min\u001b[39;00m \u001b[38;5;28mzip\u001b[39m(\u001b[38;5;28mself\u001b[39m\u001b[38;5;241m.\u001b[39mpos_augmented, \u001b[38;5;28mself\u001b[39m\u001b[38;5;241m.\u001b[39mparent\u001b[38;5;241m.\u001b[39mpos_example_labels)]\n\u001b[1;32m    440\u001b[0m         \u001b[38;5;28mself\u001b[39m\u001b[38;5;241m.\u001b[39mneg_example_labels \u001b[38;5;241m=\u001b[39m [\u001b[38;5;28mself\u001b[39m\u001b[38;5;241m.\u001b[39mis_match(augtext)[\u001b[38;5;241m0\u001b[39m] \u001b[38;5;28;01mif\u001b[39;00m val \u001b[38;5;28;01melse\u001b[39;00m \u001b[38;5;28;01mNone\u001b[39;00m \u001b[38;5;28;01mfor\u001b[39;00m augtext, val \u001b[38;5;129;01min\u001b[39;00m \u001b[38;5;28mzip\u001b[39m(\u001b[38;5;28mself\u001b[39m\u001b[38;5;241m.\u001b[39mneg_augmented, \u001b[38;5;28mself\u001b[39m\u001b[38;5;241m.\u001b[39mparent\u001b[38;5;241m.\u001b[39mneg_example_labels)]\n\u001b[1;32m    442\u001b[0m \u001b[38;5;66;03m# ----- Count match and notmatch\u001b[39;00m\n",
      "File \u001b[0;32m~/failure-modes/.venv/lib/python3.9/site-packages/grasptext.py:439\u001b[0m, in \u001b[0;36m<listcomp>\u001b[0;34m(.0)\u001b[0m\n\u001b[1;32m    437\u001b[0m         \u001b[38;5;28mself\u001b[39m\u001b[38;5;241m.\u001b[39mneg_example_labels \u001b[38;5;241m=\u001b[39m [\u001b[38;5;28mself\u001b[39m\u001b[38;5;241m.\u001b[39mis_match(augtext)[\u001b[38;5;241m0\u001b[39m] \u001b[38;5;28;01mfor\u001b[39;00m augtext \u001b[38;5;129;01min\u001b[39;00m \u001b[38;5;28mself\u001b[39m\u001b[38;5;241m.\u001b[39mneg_augmented]\n\u001b[1;32m    438\u001b[0m     \u001b[38;5;28;01melse\u001b[39;00m:\n\u001b[0;32m--> 439\u001b[0m         \u001b[38;5;28mself\u001b[39m\u001b[38;5;241m.\u001b[39mpos_example_labels \u001b[38;5;241m=\u001b[39m [\u001b[38;5;28;43mself\u001b[39;49m\u001b[38;5;241;43m.\u001b[39;49m\u001b[43mis_match\u001b[49m\u001b[43m(\u001b[49m\u001b[43maugtext\u001b[49m\u001b[43m)\u001b[49m[\u001b[38;5;241m0\u001b[39m] \u001b[38;5;28;01mif\u001b[39;00m val \u001b[38;5;28;01melse\u001b[39;00m \u001b[38;5;28;01mNone\u001b[39;00m \u001b[38;5;28;01mfor\u001b[39;00m augtext, val \u001b[38;5;129;01min\u001b[39;00m \u001b[38;5;28mzip\u001b[39m(\u001b[38;5;28mself\u001b[39m\u001b[38;5;241m.\u001b[39mpos_augmented, \u001b[38;5;28mself\u001b[39m\u001b[38;5;241m.\u001b[39mparent\u001b[38;5;241m.\u001b[39mpos_example_labels)]\n\u001b[1;32m    440\u001b[0m         \u001b[38;5;28mself\u001b[39m\u001b[38;5;241m.\u001b[39mneg_example_labels \u001b[38;5;241m=\u001b[39m [\u001b[38;5;28mself\u001b[39m\u001b[38;5;241m.\u001b[39mis_match(augtext)[\u001b[38;5;241m0\u001b[39m] \u001b[38;5;28;01mif\u001b[39;00m val \u001b[38;5;28;01melse\u001b[39;00m \u001b[38;5;28;01mNone\u001b[39;00m \u001b[38;5;28;01mfor\u001b[39;00m augtext, val \u001b[38;5;129;01min\u001b[39;00m \u001b[38;5;28mzip\u001b[39m(\u001b[38;5;28mself\u001b[39m\u001b[38;5;241m.\u001b[39mneg_augmented, \u001b[38;5;28mself\u001b[39m\u001b[38;5;241m.\u001b[39mparent\u001b[38;5;241m.\u001b[39mneg_example_labels)]\n\u001b[1;32m    442\u001b[0m \u001b[38;5;66;03m# ----- Count match and notmatch\u001b[39;00m\n",
      "File \u001b[0;32m~/failure-modes/.venv/lib/python3.9/site-packages/grasptext.py:549\u001b[0m, in \u001b[0;36mPattern.is_match\u001b[0;34m(self, augtext)\u001b[0m\n\u001b[1;32m    548\u001b[0m \u001b[38;5;28;01mdef\u001b[39;00m\u001b[38;5;250m \u001b[39m\u001b[38;5;21mis_match\u001b[39m(\u001b[38;5;28mself\u001b[39m, augtext: AugmentedText) \u001b[38;5;241m-\u001b[39m\u001b[38;5;241m>\u001b[39m [\u001b[38;5;28mbool\u001b[39m, Union[List[\u001b[38;5;28mint\u001b[39m], \u001b[38;5;28mbool\u001b[39m]]:\n\u001b[0;32m--> 549\u001b[0m     match_indices \u001b[38;5;241m=\u001b[39m \u001b[38;5;28;43mself\u001b[39;49m\u001b[38;5;241;43m.\u001b[39;49m\u001b[43m_is_match_recursive\u001b[49m\u001b[43m(\u001b[49m\u001b[38;5;28;43mself\u001b[39;49m\u001b[38;5;241;43m.\u001b[39;49m\u001b[43mpattern\u001b[49m\u001b[43m,\u001b[49m\u001b[43m \u001b[49m\u001b[43maugtext\u001b[49m\u001b[38;5;241;43m.\u001b[39;49m\u001b[43mall_features\u001b[49m\u001b[43m,\u001b[49m\u001b[43m \u001b[49m\u001b[38;5;241;43m0\u001b[39;49m\u001b[43m,\u001b[49m\u001b[43m \u001b[49m\u001b[38;5;28;43;01mNone\u001b[39;49;00m\u001b[43m)\u001b[49m\n\u001b[1;32m    550\u001b[0m     \u001b[38;5;28;01mreturn\u001b[39;00m \u001b[38;5;28misinstance\u001b[39m(match_indices, \u001b[38;5;28mlist\u001b[39m), match_indices\n",
      "File \u001b[0;32m~/failure-modes/.venv/lib/python3.9/site-packages/grasptext.py:535\u001b[0m, in \u001b[0;36mPattern._is_match_recursive\u001b[0;34m(self, pattern, attribute_list, start, end)\u001b[0m\n\u001b[1;32m    533\u001b[0m     \u001b[38;5;28;01massert\u001b[39;00m end \u001b[38;5;241m<\u001b[39m\u001b[38;5;241m=\u001b[39m \u001b[38;5;28mlen\u001b[39m(attribute_list)\n\u001b[1;32m    534\u001b[0m     stop_match \u001b[38;5;241m=\u001b[39m end\n\u001b[0;32m--> 535\u001b[0m \u001b[38;5;28;01mfor\u001b[39;00m idx \u001b[38;5;129;01min\u001b[39;00m \u001b[38;5;28mrange\u001b[39m(start, stop_match):\n\u001b[1;32m    536\u001b[0m     \u001b[38;5;28;01mif\u001b[39;00m Pattern\u001b[38;5;241m.\u001b[39m_is_token_match(pattern[\u001b[38;5;241m0\u001b[39m], attribute_list[idx]):\n\u001b[1;32m    537\u001b[0m         \u001b[38;5;28;01mif\u001b[39;00m \u001b[38;5;28mself\u001b[39m\u001b[38;5;241m.\u001b[39mwindow_size \u001b[38;5;129;01mis\u001b[39;00m \u001b[38;5;28;01mNone\u001b[39;00m: \u001b[38;5;66;03m# No window size\u001b[39;00m\n",
      "\u001b[0;31mKeyboardInterrupt\u001b[0m: "
     ]
    }
   ],
   "source": [
    "patterns = grasp_model.fit_transform(erroneous['reasoning_content'].tolist(), accurates['reasoning_content'].tolist())"
   ]
  },
  {
   "cell_type": "code",
   "execution_count": null,
   "id": "ca00acec",
   "metadata": {},
   "outputs": [],
   "source": []
  }
 ],
 "metadata": {
  "kernelspec": {
   "display_name": ".venv",
   "language": "python",
   "name": "python3"
  },
  "language_info": {
   "codemirror_mode": {
    "name": "ipython",
    "version": 3
   },
   "file_extension": ".py",
   "mimetype": "text/x-python",
   "name": "python",
   "nbconvert_exporter": "python",
   "pygments_lexer": "ipython3",
   "version": "3.9.10"
  }
 },
 "nbformat": 4,
 "nbformat_minor": 5
}
